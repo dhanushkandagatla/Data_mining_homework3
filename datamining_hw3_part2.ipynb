{
 "cells": [
  {
   "cell_type": "code",
   "execution_count": 1,
   "id": "543beb5a",
   "metadata": {},
   "outputs": [],
   "source": [
    "import warnings\n",
    "warnings.filterwarnings('ignore')\n",
    "warnings.filterwarnings('ignore', category=DeprecationWarning)\n",
    "warnings.filterwarnings('ignore', message='Your specific warning message')\n",
    "\n",
    "import pandas as pd\n",
    "import seaborn as sns\n",
    "from sklearn.model_selection import KFold, cross_val_predict, cross_val_score\n",
    "from sklearn.ensemble import RandomForestClassifier\n",
    "from sklearn.metrics import roc_curve, auc, accuracy_score, roc_auc_score\n",
    "from sklearn.preprocessing import LabelEncoder\n",
    "from sklearn.naive_bayes import GaussianNB\n",
    "from sklearn.linear_model import LogisticRegression\n",
    "from sklearn.tree import DecisionTreeClassifier\n",
    "from sklearn.svm import SVC\n",
    "from sklearn.dummy import DummyClassifier\n",
    "import matplotlib.pyplot as plt\n",
    "from prettytable import PrettyTable"
   ]
  },
  {
   "cell_type": "code",
   "execution_count": 2,
   "id": "b995aea5",
   "metadata": {},
   "outputs": [],
   "source": [
    "df= pd.read_csv('BMI.csv') # read the dataframe into df"
   ]
  },
  {
   "cell_type": "code",
   "execution_count": 3,
   "id": "c20724be",
   "metadata": {},
   "outputs": [
    {
     "name": "stdout",
     "output_type": "stream",
     "text": [
      "<class 'pandas.core.frame.DataFrame'>\n",
      "RangeIndex: 252 entries, 0 to 251\n",
      "Data columns (total 14 columns):\n",
      " #   Column   Non-Null Count  Dtype  \n",
      "---  ------   --------------  -----  \n",
      " 0   Age      252 non-null    int64  \n",
      " 1   Weight   252 non-null    float64\n",
      " 2   Height   252 non-null    float64\n",
      " 3   Neck     252 non-null    float64\n",
      " 4   Chest    252 non-null    float64\n",
      " 5   Abdomen  252 non-null    float64\n",
      " 6   Hip      252 non-null    float64\n",
      " 7   Thigh    252 non-null    float64\n",
      " 8   Knee     252 non-null    float64\n",
      " 9   Ankle    252 non-null    float64\n",
      " 10  Biceps   252 non-null    float64\n",
      " 11  Forearm  252 non-null    float64\n",
      " 12  Wrist    252 non-null    float64\n",
      " 13  fatpctg  252 non-null    float64\n",
      "dtypes: float64(13), int64(1)\n",
      "memory usage: 27.7 KB\n"
     ]
    }
   ],
   "source": [
    "df.info()"
   ]
  },
  {
   "cell_type": "markdown",
   "id": "e5ecca9e",
   "metadata": {},
   "source": [
    "## Wrapper method \n",
    "### forward stepwise regression"
   ]
  },
  {
   "cell_type": "code",
   "execution_count": 4,
   "id": "4c23d087",
   "metadata": {},
   "outputs": [
    {
     "name": "stdout",
     "output_type": "stream",
     "text": [
      "Best features from forward stepwise regression: ['Abdomen', 'Weight', 'Wrist', 'Forearm', 'Neck', 'Age', 'Thigh', 'Hip', 'Height', 'Biceps', 'Ankle', 'Chest', 'Knee']\n"
     ]
    }
   ],
   "source": [
    "import pandas as pd\n",
    "import numpy as np\n",
    "from sklearn.linear_model import LinearRegression\n",
    "from sklearn.metrics import mean_squared_error\n",
    "\n",
    "# Separate features (X) and target variable (y)\n",
    "X = df.drop('fatpctg', axis=1)\n",
    "y = df['fatpctg']\n",
    "\n",
    "# Function to perform forward stepwise regression\n",
    "def forward_stepwise_selection(X, y):\n",
    "    features = list(X.columns)\n",
    "    selected_features = []\n",
    "    best_features = []\n",
    "    best_mse = float('inf')\n",
    "\n",
    "    for _ in range(len(features)):\n",
    "        mse_list = []\n",
    "\n",
    "        for feature in features:\n",
    "            current_features = selected_features + [feature]\n",
    "            X_current = X[current_features]\n",
    "\n",
    "            # Train a Linear Regression model\n",
    "            lr_model = LinearRegression()\n",
    "            lr_model.fit(X_current, y)\n",
    "            y_pred = lr_model.predict(X_current)\n",
    "\n",
    "            # Calculate Mean Squared Error\n",
    "            mse = mean_squared_error(y, y_pred)\n",
    "            mse_list.append(mse)\n",
    "\n",
    "        # Select the feature that minimizes MSE\n",
    "        best_feature_index = np.argmin(mse_list)\n",
    "        best_feature = features[best_feature_index]\n",
    "\n",
    "        # Update selected features and remove the chosen feature from the list\n",
    "        selected_features.append(best_feature)\n",
    "        features.remove(best_feature)\n",
    "\n",
    "        # Update best features if the current set has a lower MSE\n",
    "        if mse_list[best_feature_index] < best_mse:\n",
    "            best_mse = mse_list[best_feature_index]\n",
    "            best_features = selected_features.copy()\n",
    "\n",
    "    return best_features\n",
    "# Perform forward stepwise regression\n",
    "forward_best_features = forward_stepwise_selection(X, y)\n",
    "print(\"Best features from forward stepwise regression:\", forward_best_features)"
   ]
  },
  {
   "cell_type": "markdown",
   "id": "87afcdfc",
   "metadata": {},
   "source": [
    "### backward stepwise regression"
   ]
  },
  {
   "cell_type": "code",
   "execution_count": 5,
   "id": "1bce45ef",
   "metadata": {},
   "outputs": [
    {
     "name": "stdout",
     "output_type": "stream",
     "text": [
      "Best features from backward stepwise regression: ['Age', 'Weight', 'Height', 'Neck', 'Chest', 'Abdomen', 'Hip', 'Thigh', 'Ankle', 'Biceps', 'Forearm', 'Wrist']\n"
     ]
    }
   ],
   "source": [
    "from sklearn.linear_model import LinearRegression\n",
    "from sklearn.metrics import mean_squared_error\n",
    "\n",
    "# Function to perform backward stepwise regression\n",
    "def backward_stepwise_selection(X, y):\n",
    "    features = list(X.columns)\n",
    "    selected_features = features.copy()\n",
    "    best_features = []\n",
    "    best_mse = float('inf')\n",
    "\n",
    "    for _ in range(len(features)):\n",
    "        mse_list = []\n",
    "\n",
    "        for feature in selected_features:\n",
    "            current_features = selected_features.copy()\n",
    "            current_features.remove(feature)\n",
    "            X_current = X[current_features]\n",
    "\n",
    "            # Check if X_current is not empty\n",
    "            if not X_current.empty:\n",
    "                # Train a Linear Regression model\n",
    "                lr_model = LinearRegression()\n",
    "                \n",
    "                # Convert X_current to a NumPy array\n",
    "                X_current_np = X_current.to_numpy().reshape(-1, len(current_features))\n",
    "\n",
    "                lr_model.fit(X_current_np, y)\n",
    "                y_pred = lr_model.predict(X_current_np)\n",
    "\n",
    "                # Calculate Mean Squared Error\n",
    "                mse = mean_squared_error(y, y_pred)\n",
    "                mse_list.append(mse)\n",
    "\n",
    "            else:\n",
    "                mse_list.append(float('inf'))\n",
    "\n",
    "        # Select the feature to remove that minimizes MSE\n",
    "        worst_feature_index = np.argmin(mse_list)\n",
    "        worst_feature = selected_features[worst_feature_index]\n",
    "\n",
    "        # Update selected features and remove the chosen feature\n",
    "        selected_features.remove(worst_feature)\n",
    "\n",
    "        # Update best features if the current set has a lower MSE\n",
    "        if mse_list[worst_feature_index] < best_mse:\n",
    "            best_mse = mse_list[worst_feature_index]\n",
    "            best_features = selected_features.copy()\n",
    "\n",
    "    return best_features\n",
    "\n",
    "# Perform backward stepwise regression\n",
    "backward_best_features = backward_stepwise_selection(X, y)\n",
    "print(\"Best features from backward stepwise regression:\", backward_best_features)\n"
   ]
  },
  {
   "cell_type": "markdown",
   "id": "3dc83211",
   "metadata": {},
   "source": [
    "## Filter method"
   ]
  },
  {
   "cell_type": "code",
   "execution_count": 6,
   "id": "a98439e2",
   "metadata": {},
   "outputs": [
    {
     "name": "stdout",
     "output_type": "stream",
     "text": [
      "Ranking of features based on correlation:\n",
      "Abdomen    0.813432\n",
      "Chest      0.702620\n",
      "Hip        0.625201\n",
      "Weight     0.612925\n",
      "Thigh      0.559608\n",
      "Knee       0.508665\n",
      "Biceps     0.493271\n",
      "Neck       0.490592\n",
      "Forearm    0.361387\n",
      "Wrist      0.346575\n",
      "Age        0.291458\n",
      "Ankle      0.265970\n",
      "Height     0.133211\n",
      "dtype: float64\n"
     ]
    }
   ],
   "source": [
    "# Calculate the correlation between each feature and the output variable\n",
    "correlations = df.drop('fatpctg', axis=1).apply(lambda x: x.corr(df['fatpctg']))\n",
    "\n",
    "# Sort features based on the absolute correlation values\n",
    "correlations = correlations.abs().sort_values(ascending=False)\n",
    "\n",
    "# Display the ranking of features\n",
    "print(\"Ranking of features based on correlation:\")\n",
    "print(correlations)\n"
   ]
  },
  {
   "cell_type": "markdown",
   "id": "3775c765",
   "metadata": {},
   "source": [
    "## Embedded method:\n",
    "### Lasso regression"
   ]
  },
  {
   "cell_type": "code",
   "execution_count": 7,
   "id": "d98f26ce",
   "metadata": {},
   "outputs": [
    {
     "name": "stdout",
     "output_type": "stream",
     "text": [
      "Selected features from Lasso regression:\n",
      "Index(['Age', 'Weight', 'Height', 'Neck', 'Chest', 'Abdomen', 'Hip', 'Thigh',\n",
      "       'Ankle', 'Biceps', 'Forearm', 'Wrist'],\n",
      "      dtype='object')\n"
     ]
    }
   ],
   "source": [
    "from sklearn.linear_model import Lasso\n",
    "from sklearn.model_selection import train_test_split\n",
    "from sklearn.preprocessing import StandardScaler\n",
    "\n",
    "# Separate features (X) and target variable (y)\n",
    "X = df.drop('fatpctg', axis=1)\n",
    "y = df['fatpctg']\n",
    "\n",
    "# Split the data into training and testing sets\n",
    "X_train, X_test, y_train, y_test = train_test_split(X, y, test_size=0.2, random_state=42)\n",
    "\n",
    "# Standardize the features\n",
    "scaler = StandardScaler()\n",
    "X_train_std = scaler.fit_transform(X_train)\n",
    "X_test_std = scaler.transform(X_test)\n",
    "\n",
    "# Fit Lasso regression model\n",
    "lasso_model = Lasso(alpha=0.01)  # You can adjust the regularization parameter (alpha)\n",
    "lasso_model.fit(X_train_std, y_train)\n",
    "\n",
    "# Display coefficients and corresponding features\n",
    "lasso_coefficients = pd.Series(lasso_model.coef_, index=X.columns)\n",
    "selected_features_lasso = lasso_coefficients[lasso_coefficients != 0].index\n",
    "\n",
    "print(\"Selected features from Lasso regression:\")\n",
    "print(selected_features_lasso)\n"
   ]
  },
  {
   "cell_type": "markdown",
   "id": "76b07105",
   "metadata": {},
   "source": [
    "### Random forest"
   ]
  },
  {
   "cell_type": "code",
   "execution_count": 8,
   "id": "043f2bd4",
   "metadata": {},
   "outputs": [
    {
     "name": "stdout",
     "output_type": "stream",
     "text": [
      "Selected features from Random Forest:\n",
      "Index(['Abdomen', 'Weight', 'Wrist', 'Height', 'Hip', 'Neck', 'Chest', 'Age',\n",
      "       'Ankle', 'Biceps', 'Knee', 'Forearm', 'Thigh'],\n",
      "      dtype='object')\n"
     ]
    }
   ],
   "source": [
    "from sklearn.ensemble import RandomForestRegressor\n",
    "\n",
    "# Fit Random Forest model\n",
    "rf_model = RandomForestRegressor(random_state=42)\n",
    "rf_model.fit(X_train, y_train)\n",
    "\n",
    "# Display feature importances\n",
    "feature_importances = pd.Series(rf_model.feature_importances_, index=X.columns)\n",
    "selected_features_rf = feature_importances.sort_values(ascending=False).index\n",
    "\n",
    "print(\"Selected features from Random Forest:\")\n",
    "print(selected_features_rf)\n"
   ]
  }
 ],
 "metadata": {
  "kernelspec": {
   "display_name": "Python 3 (ipykernel)",
   "language": "python",
   "name": "python3"
  },
  "language_info": {
   "codemirror_mode": {
    "name": "ipython",
    "version": 3
   },
   "file_extension": ".py",
   "mimetype": "text/x-python",
   "name": "python",
   "nbconvert_exporter": "python",
   "pygments_lexer": "ipython3",
   "version": "3.9.13"
  }
 },
 "nbformat": 4,
 "nbformat_minor": 5
}
